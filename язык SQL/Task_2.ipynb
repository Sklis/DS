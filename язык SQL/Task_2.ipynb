{
 "cells": [
  {
   "cell_type": "code",
   "execution_count": 2,
   "metadata": {},
   "outputs": [
    {
     "name": "stdout",
     "output_type": "stream",
     "text": [
      "Количество строк, удовлетворяющих условиям:\n",
      "   cnt\n",
      "0  985\n"
     ]
    }
   ],
   "source": [
    "import sqlite3\n",
    "import pandas as pd\n",
    "\n",
    "# Создание соединения с базой данных\n",
    "connection = sqlite3.connect('../datasets/checking-logs.sqlite')\n",
    "\n",
    "# Получение схемы таблицы checker\n",
    "query = \"PRAGMA table_info(checker);\"\n",
    "checker_schema = pd.io.sql.read_sql(query, connection)\n",
    "\n",
    "# Получение первых 10 строк таблицы checker\n",
    "query = \"SELECT * FROM checker LIMIT 10;\"\n",
    "checker_data = pd.io.sql.read_sql(query, connection)\n",
    "\n",
    "# Подсчет количества строк, удовлетворяющих условиям\n",
    "query = \"\"\"\n",
    "SELECT COUNT(*) AS cnt\n",
    "FROM pageviews\n",
    "WHERE uid IN (\n",
    "    SELECT uid\n",
    "    FROM checker\n",
    "    WHERE status = 'ready' AND numTrials = 1 AND labname IN ('laba04', 'laba04s', 'laba05', 'laba06', 'laba06s', 'project1')\n",
    ");\n",
    "\"\"\"\n",
    "checkers = pd.io.sql.read_sql(query, connection)\n",
    "print(\"Количество строк, удовлетворяющих условиям:\")\n",
    "print(checkers)\n",
    "\n",
    "# Закрытие соединения с базой данных\n",
    "connection.close()\n"
   ]
  },
  {
   "cell_type": "code",
   "execution_count": 5,
   "metadata": {},
   "outputs": [],
   "source": [
    "conn.close()"
   ]
  }
 ],
 "metadata": {
  "kernelspec": {
   "display_name": "Python 3",
   "language": "python",
   "name": "python3"
  },
  "language_info": {
   "codemirror_mode": {
    "name": "ipython",
    "version": 3
   },
   "file_extension": ".py",
   "mimetype": "text/x-python",
   "name": "python",
   "nbconvert_exporter": "python",
   "pygments_lexer": "ipython3",
   "version": "3.10.11"
  },
  "orig_nbformat": 4
 },
 "nbformat": 4,
 "nbformat_minor": 2
}
