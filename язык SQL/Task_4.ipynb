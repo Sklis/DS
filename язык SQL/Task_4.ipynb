{
 "cells": [
  {
   "cell_type": "code",
   "execution_count": 9,
   "metadata": {},
   "outputs": [
    {
     "name": "stdout",
     "output_type": "stream",
     "text": [
      "       uid  MIN(diff)\n",
      "0  user_30       -202\n",
      "       uid  MAX(diff)\n",
      "0  user_25         -2\n",
      "   AVG(diff)\n",
      "0    -89.125\n",
      "           avg_diff  pageviews\n",
      "avg_diff   1.000000  -0.279736\n",
      "pageviews -0.279736   1.000000\n"
     ]
    }
   ],
   "source": [
    "import sqlite3\n",
    "import pandas as pd\n",
    "\n",
    "connection = sqlite3.connect('../datasets/checking-logs.sqlite')\n",
    "str10 =pd.io.sql.read_sql('SELECT * FROM test LIMIT 10;',connection)\n",
    "\n",
    "# print(str10)\n",
    "\n",
    "query_min = \"\"\" SELECT t.uid, CAST (MIN(julianday(t.first_commit_ts)-\n",
    "                    julianday(dl.deadlines,'unixepoch'))*24 as INTEGER) as 'MIN(diff)'\n",
    "                    FROM test as t\n",
    "                    LEFT JOIN deadlines as dl\n",
    "                    ON t.labname = dl.labs\n",
    "                    WHERE t.labname !='project1';\"\"\"\n",
    "\n",
    "query_max = \"\"\" SELECT t.uid, CAST (MAX(julianday(t.first_commit_ts)-\n",
    "                    julianday(dl.deadlines,'unixepoch'))*24 as INTEGER) as 'MAX(diff)'\n",
    "                    FROM test as t\n",
    "                    LEFT JOIN deadlines as dl\n",
    "                    ON t.labname = dl.labs\n",
    "                    WHERE t.labname !='project1';\"\"\"\n",
    "\n",
    "query_avg = \"\"\" SELECT AVG(CAST((julianday(t.first_commit_ts)-\n",
    "                    julianday(dl.deadlines,'unixepoch'))*24 as INTEGER)) AS 'AVG(diff)'\n",
    "                    FROM test as t\n",
    "                    LEFT JOIN deadlines as dl\n",
    "                    ON t.labname = dl.labs\n",
    "                    WHERE t.labname !='project1';\"\"\"\n",
    "\n",
    "query_diff = \"\"\"SELECT t.uid, t.avg_diff, p.pageviews \n",
    "                FROM (SELECT uid, AVG((strftime('%s', first_commit_ts) - deadlines) / 3600) as avg_diff\n",
    "                    FROM test\n",
    "                    LEFT JOIN deadlines\n",
    "                    ON test.labname = deadlines.labs\n",
    "                    WHERE test.labname != 'project1'\n",
    "                    GROUP BY uid) AS t\n",
    "                LEFT JOIN \n",
    "                    (SELECT uid, COUNT(datetime) as pageviews\n",
    "                    FROM pageviews  \n",
    "                    WHERE uid LIKE 'user_%'\n",
    "                    GROUP BY uid) AS p\n",
    "                ON t.uid = p.uid\"\"\"\n",
    "\n",
    "\n",
    "df_min= pd.io.sql.read_sql(query_min, connection)\n",
    "df_min.to_sql('df_min',connection,if_exists='replace')\n",
    "\n",
    "df_max= pd.io.sql.read_sql(query_max, connection)\n",
    "df_max.to_sql('df_max',connection,if_exists='replace')\n",
    "\n",
    "df_avg= pd.io.sql.read_sql(query_avg, connection)\n",
    "df_avg.to_sql('df_avg',connection,if_exists='replace')\n",
    "\n",
    "views_diff= pd.read_sql(query_diff,connection)\n",
    "\n",
    "print(df_min)\n",
    "print(df_max)\n",
    "print(df_avg)\n",
    "print(views_diff[['avg_diff','pageviews']].corr())\n",
    "\n",
    "connection.close()"
   ]
  },
  {
   "cell_type": "code",
   "execution_count": null,
   "metadata": {},
   "outputs": [],
   "source": []
  }
 ],
 "metadata": {
  "kernelspec": {
   "display_name": "Python 3",
   "language": "python",
   "name": "python3"
  },
  "language_info": {
   "codemirror_mode": {
    "name": "ipython",
    "version": 3
   },
   "file_extension": ".py",
   "mimetype": "text/x-python",
   "name": "python",
   "nbconvert_exporter": "python",
   "pygments_lexer": "ipython3",
   "version": "3.10.11"
  },
  "orig_nbformat": 4
 },
 "nbformat": 4,
 "nbformat_minor": 2
}
