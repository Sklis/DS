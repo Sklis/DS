{
 "cells": [
  {
   "cell_type": "code",
   "execution_count": 2,
   "metadata": {},
   "outputs": [
    {
     "name": "stdout",
     "output_type": "stream",
     "text": [
      "Схема таблицы pageviews:\n",
      "   cid      name       type  notnull dflt_value  pk\n",
      "0    0     index    INTEGER        0       None   0\n",
      "1    1       uid       TEXT        0       None   0\n",
      "2    2  datetime  TIMESTAMP        0       None   0\n",
      "Первые 10 строк таблицы pageviews:\n",
      "   index      uid                    datetime\n",
      "0      0  admin_1  2020-04-17 12:01:08.463179\n",
      "1      1  admin_1  2020-04-17 12:01:23.743946\n",
      "2      2  admin_3  2020-04-17 12:17:39.287778\n",
      "3      3  admin_3  2020-04-17 12:17:40.001768\n",
      "4      4  admin_1  2020-04-17 12:27:30.646665\n",
      "5      5  admin_1  2020-04-17 12:35:44.884757\n",
      "6      6  admin_1  2020-04-17 12:35:52.735016\n",
      "7      7  admin_3  2020-04-17 12:36:21.401412\n",
      "8      8  admin_3  2020-04-17 12:36:22.023355\n",
      "9      9  admin_1  2020-04-17 13:55:19.129243\n",
      "Подтаблица pageviews:\n",
      "<class 'pandas.core.frame.DataFrame'>\n",
      "DatetimeIndex: 987 entries, 2020-04-26 21:53:59.624136 to 2020-05-21 16:36:40.915488\n",
      "Data columns (total 1 columns):\n",
      " #   Column  Non-Null Count  Dtype \n",
      "---  ------  --------------  ----- \n",
      " 0   uid     987 non-null    object\n",
      "dtypes: object(1)\n",
      "memory usage: 15.4+ KB\n",
      "None\n"
     ]
    }
   ],
   "source": [
    "import sqlite3\n",
    "import pandas as pd\n",
    "\n",
    "# Шаг 1: Создание соединения с базой данных\n",
    "connection = sqlite3.connect(\"../datasets/checking-logs.sqlite\")\n",
    "\n",
    "# Шаг 2: Получение схемы таблицы pageviews\n",
    "query = \"PRAGMA table_info(pageviews);\"\n",
    "pageviews_schema = pd.io.sql.read_sql(query, connection)\n",
    "print(\"Схема таблицы pageviews:\")\n",
    "print(pageviews_schema)\n",
    "\n",
    "# Шаг 3: Получение первых 10 строк таблицы pageviews\n",
    "query = \"SELECT * FROM pageviews LIMIT 10;\"\n",
    "pageviews_data = pd.io.sql.read_sql(query, connection)\n",
    "print(\"Первые 10 строк таблицы pageviews:\")\n",
    "print(pageviews_data)\n",
    "\n",
    "# Шаг 4: Получение подтаблицы с заданными условиями\n",
    "query = \"\"\"\n",
    "SELECT uid, datetime\n",
    "FROM pageviews\n",
    "WHERE uid LIKE 'user_%'\n",
    "ORDER BY uid ASC;\n",
    "\"\"\"\n",
    "pageviews_subset = pd.io.sql.read_sql(query, connection, index_col='datetime', parse_dates=['datetime'])\n",
    "print(\"Подтаблица pageviews:\")\n",
    "print(pageviews_subset.info())\n",
    "\n",
    "# Шаг 5: Закрытие соединения с базой данных\n",
    "connection.close()\n"
   ]
  },
  {
   "cell_type": "code",
   "execution_count": 2,
   "metadata": {},
   "outputs": [
    {
     "name": "stdout",
     "output_type": "stream",
     "text": [
      "<class 'pandas.core.frame.DataFrame'>\n",
      "DatetimeIndex: 987 entries, 2020-04-26 21:53:59.624136 to 2020-05-09 20:30:47.034282\n",
      "Data columns (total 1 columns):\n",
      " #   Column  Non-Null Count  Dtype \n",
      "---  ------  --------------  ----- \n",
      " 0   uid     987 non-null    object\n",
      "dtypes: object(1)\n",
      "memory usage: 15.4+ KB\n"
     ]
    }
   ],
   "source": [
    "conn = sqlite3.connect('../datasets/checking-logs.sqlite')\n",
    "query = 'PRAGMA table_info(pageviews);'\n",
    "schema = pd.io.sql.read_sql(query, conn)\n",
    "query = 'SELECT * FROM pageviews LIMIT 10;'\n",
    "\n",
    "first_10_rows = pd.io.sql.read_sql(query, conn)\n",
    "query = '''\n",
    "            SELECT uid, datetime FROM pageviews \n",
    "            WHERE uid LIKE 'user_%' \n",
    "            ORDER BY CAST(SUBSTR(uid, 6) AS INTEGER), uid ASC;\n",
    "        '''\n",
    "pageviews = pd.io.sql.read_sql(query, conn)\n",
    "\n",
    "pageviews['datetime'] = pd.to_datetime(pageviews['datetime'])\n",
    "pageviews.set_index('datetime', inplace=True)\n",
    "pageviews.index.name = 'DatetimeIndex'\n",
    "pageviews.info()\n",
    "conn.close()"
   ]
  }
 ],
 "metadata": {
  "kernelspec": {
   "display_name": "Python 3",
   "language": "python",
   "name": "python3"
  },
  "language_info": {
   "codemirror_mode": {
    "name": "ipython",
    "version": 3
   },
   "file_extension": ".py",
   "mimetype": "text/x-python",
   "name": "python",
   "nbconvert_exporter": "python",
   "pygments_lexer": "ipython3",
   "version": "3.10.11"
  },
  "orig_nbformat": 4
 },
 "nbformat": 4,
 "nbformat_minor": 2
}
