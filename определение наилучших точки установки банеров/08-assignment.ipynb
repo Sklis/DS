{
 "cells": [
  {
   "cell_type": "markdown",
   "id": "371010e9-2aa2-4315-9f96-491c8d28d0b6",
   "metadata": {},
   "source": [
    "# Задания"
   ]
  },
  {
   "cell_type": "code",
   "execution_count": 2,
   "id": "7c143ef3-357c-4be1-85c5-13b8ca3eba6f",
   "metadata": {},
   "outputs": [],
   "source": [
    "import numpy as np\n",
    "import pandas as pd"
   ]
  },
  {
   "cell_type": "markdown",
   "id": "0bf2c419-407b-4663-9c56-3a2a73b3240b",
   "metadata": {},
   "source": [
    "## Задание 1"
   ]
  },
  {
   "cell_type": "markdown",
   "id": "75b9b5d0-aaf4-4fb1-a9b0-d548e2b92bf3",
   "metadata": {},
   "source": [
    "Загрузи данные о посещениях заведений. В них содержится информация о регистрации пользователя в заведениях \n",
    "и геолокация этих заведений. Очисти данные от записей с пропусками. \\\n",
    "Выведи количество записей после очистки. "
   ]
  },
  {
   "cell_type": "code",
   "execution_count": 3,
   "id": "7436c194-ad3d-4165-a043-33bb11eb51bf",
   "metadata": {},
   "outputs": [
    {
     "name": "stdout",
     "output_type": "stream",
     "text": [
      "Количество записей после очистки: 396634, а было 1021968\n"
     ]
    },
    {
     "name": "stderr",
     "output_type": "stream",
     "text": [
      "C:\\Users\\sv_k7\\AppData\\Local\\Temp\\ipykernel_17980\\2040007698.py:2: DtypeWarning: Columns (0) have mixed types. Specify dtype option on import or set low_memory=False.\n",
      "  data = pd.read_csv(\"../datasets/checkins.dat\", delimiter='|', skipinitialspace=True, quotechar=\"'\", na_values='',\n"
     ]
    }
   ],
   "source": [
    "# Загрузка данных из файла .dat с указанием типа данных для каждого столбца\n",
    "data = pd.read_csv(\"../datasets/checkins.dat\", delimiter='|', skipinitialspace=True, quotechar=\"'\", na_values='', \n",
    "                   dtype={'id': int, 'user_id': int, 'venue_id': int, 'latitude': float, 'longitude': float, 'created_at': 'datetime64'})\n",
    "data.columns = data.columns.str.strip()\n",
    "\n",
    "\n",
    "# Очистка данных от записей с пропусками\n",
    "data_cleaned = data.dropna(subset=['latitude'])\n",
    "\n",
    "# Вывод количества записей после очистки\n",
    "print(f\"Количество записей после очистки: {len(data_cleaned)}, а было {len(data)}\")"
   ]
  },
  {
   "cell_type": "markdown",
   "id": "e8752027-47e6-47f0-9bba-144fba13ef11",
   "metadata": {},
   "source": [
    "## Задание 2"
   ]
  },
  {
   "cell_type": "markdown",
   "id": "f104cf4e-eeb1-4cc3-af59-f400050f1541",
   "metadata": {},
   "source": [
    "Эти данные содержат информацию о заведениях со всего мира. С помощью геолокаций и библиотеки [Reverse Geocoder](https://github.com/thampiman/reverse-geocoder),\n",
    "узнай страну для каждой геопозиции. \\\n",
    "Узнай **название** второй страны по количеству записей."
   ]
  },
  {
   "cell_type": "code",
   "execution_count": 5,
   "id": "fcac0562-4d3e-4bfb-b3c8-354c20f7bc5f",
   "metadata": {},
   "outputs": [
    {
     "name": "stdout",
     "output_type": "stream",
     "text": [
      "Название второй страны по количеству записей: Indonesia\n"
     ]
    }
   ],
   "source": [
    "import reverse_geocoder as rg\n",
    "import pycountry\n",
    "\n",
    "# Кортежи с координатами\n",
    "coordinates = list(zip(data_cleaned['latitude'], data_cleaned['longitude']))\n",
    "\n",
    "# Поиск по координатам\n",
    "geo_data = rg.search(coordinates)\n",
    "\n",
    "# Заполнение кодами стран\n",
    "data_cleaned.loc[:, 'country'] = [country['cc'] for country in geo_data]\n",
    "\n",
    "# Код страны, второй по количеству записей\n",
    "country_counts = data_cleaned['country'].value_counts()\n",
    "second_country_code = country_counts.index[1]\n",
    "\n",
    "# Получение названия второй страны по количеству записей\n",
    "second_country = pycountry.countries.get(alpha_2=second_country_code).name\n",
    "\n",
    "print(f\"Название второй страны по количеству записей: {second_country}\")\n"
   ]
  },
  {
   "cell_type": "markdown",
   "id": "a7769b9b-67ab-4e12-b097-97bffcdea5aa",
   "metadata": {},
   "source": [
    "## Задание 3"
   ]
  },
  {
   "cell_type": "markdown",
   "id": "085620a7-1d14-4b40-a879-3665c6bfd9b8",
   "metadata": {},
   "source": [
    "Нас будут интересовать только американские локации. Очисти данные от локаций, находящихся в других странах. \n",
    "Также, чтобы сократить количество, геолокаций оставь в выборке только 50 самых часто встречаемых заведений (venue). \\\n",
    "Выведи количество локаций, оставшихся после этих очисток."
   ]
  },
  {
   "cell_type": "code",
   "execution_count": 6,
   "id": "6c518747-725a-48ed-b390-bc3c15977297",
   "metadata": {},
   "outputs": [
    {
     "name": "stdout",
     "output_type": "stream",
     "text": [
      "Количество оставшихся локаций: 162099\n",
      "ID локаций и их количество упоминаний в порядке убывания:\n",
      "ID: 5222.0, Количество упоминаний: 12739\n",
      "ID: 7620.0, Количество упоминаний: 9716\n",
      "ID: 2297.0, Количество упоминаний: 9321\n",
      "ID: 11195.0, Количество упоминаний: 8286\n",
      "ID: 60.0, Количество упоминаний: 7195\n"
     ]
    }
   ],
   "source": [
    "# Очистка данных от локаций, не относящихся к США\n",
    "data_us = data_cleaned[data_cleaned['country'] == 'US']\n",
    "\n",
    "# Получение 50 самых часто встречаемых заведений\n",
    "top_venues = data_us['venue_id'].value_counts().nlargest(50)\n",
    "\n",
    "# Оставление только выбранных заведений\n",
    "data_filtered = data_us[data_us['venue_id'].isin(top_venues.index)]\n",
    "\n",
    "# Вывод количества оставшихся локаций\n",
    "num_locations = len(data_filtered)\n",
    "print(f\"Количество оставшихся локаций: {num_locations}\")\n",
    "\n",
    "top_venues = data_cleaned['venue_id'].value_counts().head(5)\n",
    "\n",
    "print(\"ID локаций и их количество упоминаний в порядке убывания:\")\n",
    "for venue_id, count in top_venues.items():\n",
    "    print(f\"ID: {venue_id}, Количество упоминаний: {count}\")\n"
   ]
  },
  {
   "cell_type": "markdown",
   "id": "63857f92-61aa-49e9-b503-ffdcb3cf24c2",
   "metadata": {},
   "source": [
    "## Задание 4"
   ]
  },
  {
   "cell_type": "markdown",
   "id": "ff9ef0df-98c9-41b9-b4a6-bbd6ec51ff68",
   "metadata": {},
   "source": [
    "Перейдем к задаче кластеризации. Воспользуйся алгоритмом [Mean Shift](https://scikit-learn.org/stable/modules/clustering.html#mean-shift)\n",
    "для кластеризации локаций. Параметрами укажи `MeanShift(bandwidth=0.1, bin_seeding=True)`. \n",
    "\n",
    "    `bandwidth=0.1` - это ширина ядра кластеризации. Для средних широт США - это порядка 5-10 км. \n",
    "    `bin_seeding=True` - для ускорения работы алгоритма.\n",
    "    \n",
    "Выведи количество кластеров, которые у тебя получились в результате кластеризации."
   ]
  },
  {
   "cell_type": "code",
   "execution_count": 7,
   "id": "f1f1302b-fe64-49d4-bdc7-7bd547d5dd6a",
   "metadata": {},
   "outputs": [
    {
     "name": "stdout",
     "output_type": "stream",
     "text": [
      "Количество кластеров: 2846\n"
     ]
    }
   ],
   "source": [
    "from sklearn.cluster import MeanShift\n",
    "\n",
    "# Кластеризация локаций с помощью Mean Shift\n",
    "bandwidth = 0.1\n",
    "bin_seeding = True\n",
    "meanshift = MeanShift(bandwidth=bandwidth, bin_seeding=bin_seeding)\n",
    "clusters = meanshift.fit_predict(data_filtered[['latitude', 'longitude']])\n",
    "\n",
    "# Количество кластеров\n",
    "num_clusters = len(set(clusters))\n",
    "print(f\"Количество кластеров: {num_clusters}\")"
   ]
  },
  {
   "cell_type": "markdown",
   "id": "5527ab7b-7cc4-496d-af6c-36ad3f1bcb54",
   "metadata": {},
   "source": [
    "## Задание 5"
   ]
  },
  {
   "cell_type": "markdown",
   "id": "7c7ece37-8a85-4977-9390-b17787e8c9d6",
   "metadata": {},
   "source": [
    "Центры полученных кластеров - это потенциальные места установки банеров компании. Теперь хотелось бы найти те центры кластеров, \n",
    "которые наиболее близко находятся к офисам продаж компании. \\\n",
    "Загрузи [данные по координатам офисов компании](datasets/offices.csv). Для каждого офиса найди 5 самых ближайших к нему центров кластеров. \n",
    "(Пренебрежем тем, что Земля круглая и рассчитаем Евклидово расстояние).\n",
    "У компании 11 офисов, значит у нас должно получится 55 мест установки баннеров. \\\n",
    "Выведи координаты установки баннера, который ближе всего находится к офису компании."
   ]
  },
  {
   "cell_type": "code",
   "execution_count": 16,
   "id": "d2c8ad48-240e-4fab-8699-9c6aa1829700",
   "metadata": {},
   "outputs": [
    {
     "name": "stdout",
     "output_type": "stream",
     "text": [
      "Координаты и дистанция самого близкого кластера к офису 10: [ 32.78531778 -79.92474241], 0.004092113620846756\n"
     ]
    }
   ],
   "source": [
    "import pandas as pd\n",
    "import numpy as np\n",
    "import plotly.graph_objects as go\n",
    "from sklearn.cluster import MeanShift\n",
    "\n",
    "# Загрузка данных об офисах\n",
    "offices_data = pd.read_csv('../datasets/offices.csv')\n",
    "\n",
    "# Создание новых столбцов для хранения координат и расстояния ближайшего кластера\n",
    "offices_data['closest_cluster_coordinates'] = None\n",
    "offices_data['distance_to_closest_cluster'] = None\n",
    "offices_data['closest_cluster_indices'] = None\n",
    "offices_data['banner_latitude'] = None  # Новый столбец для хранения широты баннеров\n",
    "offices_data['banner_longitude'] = None  # Новый столбец для хранения долготы баннеров\n",
    "\n",
    "# Перебор каждого офиса\n",
    "for index, row in offices_data.iterrows():\n",
    "    office_latitude = row['latitude']\n",
    "    office_longitude = row['longitude']\n",
    "    \n",
    "    # Вычисление расстояний от офиса до каждого центра кластера\n",
    "    distances = []\n",
    "    for cluster_center in meanshift.cluster_centers_:\n",
    "        cluster_latitude = cluster_center[0]\n",
    "        cluster_longitude = cluster_center[1]\n",
    "        \n",
    "        # Вычисление евклидова расстояния между офисом и центром кластера\n",
    "        distance = ((office_latitude - cluster_latitude)**2 + (office_longitude - cluster_longitude)**2)**0.5\n",
    "        distances.append(distance)\n",
    "    \n",
    "    # Находим индексы 5 ближайших кластеров\n",
    "    closest_cluster_indices = np.argsort(distances)[:5]\n",
    "    \n",
    "    # Находим индекс самого близкого кластера\n",
    "    closest_cluster_index = np.argmin(distances)\n",
    "    \n",
    "    # Сохранение координат и расстояния самого близкого кластера в соответствующих столбцах\n",
    "    closest_cluster_coordinates = meanshift.cluster_centers_[closest_cluster_index]\n",
    "    closest_cluster_distance = distances[closest_cluster_index]\n",
    "    banner_coordinates = meanshift.cluster_centers_[closest_cluster_indices]  # Координаты баннеров\n",
    "    banner_latitudes = banner_coordinates[:, 0]  # Широты баннеров\n",
    "    banner_longitudes = banner_coordinates[:, 1]  # Долготы баннеров\n",
    "    offices_data.at[index, 'closest_cluster_coordinates'] = closest_cluster_coordinates\n",
    "    offices_data.at[index, 'distance_to_closest_cluster'] = closest_cluster_distance\n",
    "    offices_data.at[index, 'closest_cluster_indices'] = closest_cluster_indices\n",
    "    offices_data.at[index, 'banner_latitude'] = banner_latitudes  # Сохранение широты баннеров\n",
    "    offices_data.at[index, 'banner_longitude'] = banner_longitudes  # Сохранение долготы баннеров\n",
    "\n",
    "    # Вывод результатов (координаты и дистанция самого близкого кластера)\n",
    "dis = 1\n",
    "office = 0\n",
    "coordy = 0\n",
    "for index, row in offices_data.iterrows():\n",
    "    if dis > row['distance_to_closest_cluster']:\n",
    "        office = index + 1\n",
    "        dis = row['distance_to_closest_cluster']\n",
    "        coordy = row['closest_cluster_coordinates']\n",
    "\n",
    "print(f\"Координаты и дистанция самого близкого кластера к офису {office}: {coordy}, {dis}\")    "
   ]
  },
  {
   "cell_type": "markdown",
   "id": "d250c2ef-51a3-4fe8-98ca-b395d8e168ca",
   "metadata": {
    "tags": []
   },
   "source": [
    "## Задание 6"
   ]
  },
  {
   "cell_type": "markdown",
   "id": "bd639f7b-3d62-4e59-9522-77d44f866891",
   "metadata": {},
   "source": [
    "С помощью функции [scatter_mapbox](https://plotly.github.io/plotly.py-docs/generated/plotly.express.scatter_mapbox.html) \n",
    "отметь точки установки баннеров. У тебя должна получится такая картинка.\n",
    "Цветом точки укажи к какому офису будет относиться этот баннер. \n",
    ">Цвет легенды может отличаться от референса"
   ]
  },
  {
   "cell_type": "markdown",
   "id": "b771dbde-ab74-4024-af65-7abdb02af605",
   "metadata": {},
   "source": [
    "<center><img src=\"../misc/images/task_6.png\" width=\"800\" height=\"800\"/> <center/>"
   ]
  },
  {
   "cell_type": "code",
   "execution_count": 23,
   "id": "bcaa76d6-b504-4f71-981d-5c23579a8013",
   "metadata": {},
   "outputs": [
    {
     "data": {
      "application/vnd.plotly.v1+json": {
       "config": {
        "plotlyServerURL": "https://plot.ly"
       },
       "data": [
        {
         "lat": [
          37.8052,
          34.272249,
          33.751277,
          32.717588,
          29.307715,
          30.686856,
          27.945382,
          25.8527884,
          30.4068247,
          32.786669,
          39.2640889
         ],
         "lon": [
          -122.401462,
          -118.46842,
          -118.18874,
          -117.174758,
          -94.797707,
          -88.038649,
          -82.4439174,
          -80.1913388,
          -81.5788387,
          -79.928605,
          -76.5892116
         ],
         "marker": {
          "color": "blue",
          "size": 10
         },
         "mode": "markers",
         "name": "Offices",
         "type": "scattermapbox"
        },
        {
         "lat": [
          37.68804315672593,
          37.80416010605057,
          37.928434420481885,
          37.54512748476938,
          38.07602030399998
         ],
         "lon": [
          -122.4091421870596,
          -122.26813796504084,
          -122.52352486325269,
          -122.30069530092258,
          -122.23903582799998
         ],
         "marker": {
          "color": "red",
          "size": 5
         },
         "mode": "markers",
         "name": "Banners",
         "type": "scattermapbox"
        },
        {
         "lat": [
          34.18768865305686,
          34.19901751461786,
          34.392006145454594,
          34.124190013703675,
          34.03259501432132
         ],
         "lon": [
          -118.44880518275103,
          -118.55441576777461,
          -118.54976483909066,
          -118.34644844027598,
          -118.43918429626308
         ],
         "marker": {
          "color": "red",
          "size": 5
         },
         "mode": "markers",
         "name": "Banners",
         "type": "scattermapbox"
        },
        {
         "lat": [
          33.80980562408899,
          33.90736367348494,
          33.87300538551121,
          33.64122240583737,
          33.81265932112838
         ],
         "lon": [
          -118.14497105040418,
          -118.05538166969714,
          -118.37128393699788,
          -117.9440485963136,
          -117.89443830336086
         ],
         "marker": {
          "color": "red",
          "size": 5
         },
         "mode": "markers",
         "name": "Banners",
         "type": "scattermapbox"
        },
        {
         "lat": [
          32.715962853674256,
          32.78995149183675,
          32.981146362152884,
          33.01187904141415,
          33.128803522826104
         ],
         "lon": [
          -117.15819696624045,
          -116.98785069591843,
          -117.0783101094478,
          -117.27841119292941,
          -117.12284171739142
         ],
         "marker": {
          "color": "red",
          "size": 5
         },
         "mode": "markers",
         "name": "Banners",
         "type": "scattermapbox"
        },
        {
         "lat": [
          29.3013479,
          29.420566,
          29.53663335,
          29.6890241,
          29.4238472
         ],
         "lon": [
          -94.79769579999999,
          -94.92420136000001,
          -95.08341670833329,
          -95.00539099999999,
          -95.2441009
         ],
         "marker": {
          "color": "red",
          "size": 5
         },
         "mode": "markers",
         "name": "Banners",
         "type": "scattermapbox"
        },
        {
         "lat": [
          30.694356599999995,
          30.6035255,
          30.5476941,
          30.8829628,
          30.4065868
         ],
         "lon": [
          -88.04305410000002,
          -87.9036047,
          -88.1752796,
          -87.7730474,
          -87.6835974
         ],
         "marker": {
          "color": "red",
          "size": 5
         },
         "mode": "markers",
         "name": "Banners",
         "type": "scattermapbox"
        },
        {
         "lat": [
          27.949460812240474,
          27.920829383783826,
          27.746973450000002,
          28.016583642857146,
          28.18526993095238
         ],
         "lon": [
          -82.46497055591384,
          -82.28640781891897,
          -82.4203715,
          -82.66318034999999,
          -82.40535330714285
         ],
         "marker": {
          "color": "red",
          "size": 5
         },
         "mode": "markers",
         "name": "Banners",
         "type": "scattermapbox"
        },
        {
         "lat": [
          25.78698590071344,
          25.846584911904795,
          26.005261301242115,
          26.122962019550084,
          26.115836193103444
         ],
         "lon": [
          -80.21855931584689,
          -80.3126238940477,
          -80.21103303105617,
          -80.16050044515634,
          -80.39392828275862
         ],
         "marker": {
          "color": "red",
          "size": 5
         },
         "mode": "markers",
         "name": "Banners",
         "type": "scattermapbox"
        },
        {
         "lat": [
          30.33243195694452,
          30.277710062500002,
          30.160508138888886,
          30.664292787500003,
          30.045598283333334
         ],
         "lon": [
          -81.65492676666666,
          -81.39393922499998,
          -81.70538034444442,
          -81.46237491250001,
          -81.68569341666667
         ],
         "marker": {
          "color": "red",
          "size": 5
         },
         "mode": "markers",
         "name": "Banners",
         "type": "scattermapbox"
        },
        {
         "lat": [
          32.78531777579914,
          32.67952435,
          32.9810059,
          32.60823729999999,
          33.01850389999999
         ],
         "lon": [
          -79.92474241187222,
          -79.98575185,
          -80.0325867,
          -80.08481659999998,
          -80.1756481
         ],
         "marker": {
          "color": "red",
          "size": 5
         },
         "mode": "markers",
         "name": "Banners",
         "type": "scattermapbox"
        },
        {
         "lat": [
          39.28729392569308,
          39.194447474999954,
          39.354321202499975,
          39.42022647352941,
          39.07596327290643
         ],
         "lon": [
          -76.6134932840785,
          -76.67865593235311,
          -76.47229520250005,
          -76.6925704352943,
          -76.64914884975383
         ],
         "marker": {
          "color": "red",
          "size": 5
         },
         "mode": "markers",
         "name": "Banners",
         "type": "scattermapbox"
        }
       ],
       "layout": {
        "mapbox": {
         "center": {
          "lat": 44.5,
          "lon": 280.4
         },
         "style": "carto-positron",
         "zoom": 2
        },
        "showlegend": true,
        "template": {
         "data": {
          "bar": [
           {
            "error_x": {
             "color": "#2a3f5f"
            },
            "error_y": {
             "color": "#2a3f5f"
            },
            "marker": {
             "line": {
              "color": "#E5ECF6",
              "width": 0.5
             },
             "pattern": {
              "fillmode": "overlay",
              "size": 10,
              "solidity": 0.2
             }
            },
            "type": "bar"
           }
          ],
          "barpolar": [
           {
            "marker": {
             "line": {
              "color": "#E5ECF6",
              "width": 0.5
             },
             "pattern": {
              "fillmode": "overlay",
              "size": 10,
              "solidity": 0.2
             }
            },
            "type": "barpolar"
           }
          ],
          "carpet": [
           {
            "aaxis": {
             "endlinecolor": "#2a3f5f",
             "gridcolor": "white",
             "linecolor": "white",
             "minorgridcolor": "white",
             "startlinecolor": "#2a3f5f"
            },
            "baxis": {
             "endlinecolor": "#2a3f5f",
             "gridcolor": "white",
             "linecolor": "white",
             "minorgridcolor": "white",
             "startlinecolor": "#2a3f5f"
            },
            "type": "carpet"
           }
          ],
          "choropleth": [
           {
            "colorbar": {
             "outlinewidth": 0,
             "ticks": ""
            },
            "type": "choropleth"
           }
          ],
          "contour": [
           {
            "colorbar": {
             "outlinewidth": 0,
             "ticks": ""
            },
            "colorscale": [
             [
              0,
              "#0d0887"
             ],
             [
              0.1111111111111111,
              "#46039f"
             ],
             [
              0.2222222222222222,
              "#7201a8"
             ],
             [
              0.3333333333333333,
              "#9c179e"
             ],
             [
              0.4444444444444444,
              "#bd3786"
             ],
             [
              0.5555555555555556,
              "#d8576b"
             ],
             [
              0.6666666666666666,
              "#ed7953"
             ],
             [
              0.7777777777777778,
              "#fb9f3a"
             ],
             [
              0.8888888888888888,
              "#fdca26"
             ],
             [
              1,
              "#f0f921"
             ]
            ],
            "type": "contour"
           }
          ],
          "contourcarpet": [
           {
            "colorbar": {
             "outlinewidth": 0,
             "ticks": ""
            },
            "type": "contourcarpet"
           }
          ],
          "heatmap": [
           {
            "colorbar": {
             "outlinewidth": 0,
             "ticks": ""
            },
            "colorscale": [
             [
              0,
              "#0d0887"
             ],
             [
              0.1111111111111111,
              "#46039f"
             ],
             [
              0.2222222222222222,
              "#7201a8"
             ],
             [
              0.3333333333333333,
              "#9c179e"
             ],
             [
              0.4444444444444444,
              "#bd3786"
             ],
             [
              0.5555555555555556,
              "#d8576b"
             ],
             [
              0.6666666666666666,
              "#ed7953"
             ],
             [
              0.7777777777777778,
              "#fb9f3a"
             ],
             [
              0.8888888888888888,
              "#fdca26"
             ],
             [
              1,
              "#f0f921"
             ]
            ],
            "type": "heatmap"
           }
          ],
          "heatmapgl": [
           {
            "colorbar": {
             "outlinewidth": 0,
             "ticks": ""
            },
            "colorscale": [
             [
              0,
              "#0d0887"
             ],
             [
              0.1111111111111111,
              "#46039f"
             ],
             [
              0.2222222222222222,
              "#7201a8"
             ],
             [
              0.3333333333333333,
              "#9c179e"
             ],
             [
              0.4444444444444444,
              "#bd3786"
             ],
             [
              0.5555555555555556,
              "#d8576b"
             ],
             [
              0.6666666666666666,
              "#ed7953"
             ],
             [
              0.7777777777777778,
              "#fb9f3a"
             ],
             [
              0.8888888888888888,
              "#fdca26"
             ],
             [
              1,
              "#f0f921"
             ]
            ],
            "type": "heatmapgl"
           }
          ],
          "histogram": [
           {
            "marker": {
             "pattern": {
              "fillmode": "overlay",
              "size": 10,
              "solidity": 0.2
             }
            },
            "type": "histogram"
           }
          ],
          "histogram2d": [
           {
            "colorbar": {
             "outlinewidth": 0,
             "ticks": ""
            },
            "colorscale": [
             [
              0,
              "#0d0887"
             ],
             [
              0.1111111111111111,
              "#46039f"
             ],
             [
              0.2222222222222222,
              "#7201a8"
             ],
             [
              0.3333333333333333,
              "#9c179e"
             ],
             [
              0.4444444444444444,
              "#bd3786"
             ],
             [
              0.5555555555555556,
              "#d8576b"
             ],
             [
              0.6666666666666666,
              "#ed7953"
             ],
             [
              0.7777777777777778,
              "#fb9f3a"
             ],
             [
              0.8888888888888888,
              "#fdca26"
             ],
             [
              1,
              "#f0f921"
             ]
            ],
            "type": "histogram2d"
           }
          ],
          "histogram2dcontour": [
           {
            "colorbar": {
             "outlinewidth": 0,
             "ticks": ""
            },
            "colorscale": [
             [
              0,
              "#0d0887"
             ],
             [
              0.1111111111111111,
              "#46039f"
             ],
             [
              0.2222222222222222,
              "#7201a8"
             ],
             [
              0.3333333333333333,
              "#9c179e"
             ],
             [
              0.4444444444444444,
              "#bd3786"
             ],
             [
              0.5555555555555556,
              "#d8576b"
             ],
             [
              0.6666666666666666,
              "#ed7953"
             ],
             [
              0.7777777777777778,
              "#fb9f3a"
             ],
             [
              0.8888888888888888,
              "#fdca26"
             ],
             [
              1,
              "#f0f921"
             ]
            ],
            "type": "histogram2dcontour"
           }
          ],
          "mesh3d": [
           {
            "colorbar": {
             "outlinewidth": 0,
             "ticks": ""
            },
            "type": "mesh3d"
           }
          ],
          "parcoords": [
           {
            "line": {
             "colorbar": {
              "outlinewidth": 0,
              "ticks": ""
             }
            },
            "type": "parcoords"
           }
          ],
          "pie": [
           {
            "automargin": true,
            "type": "pie"
           }
          ],
          "scatter": [
           {
            "fillpattern": {
             "fillmode": "overlay",
             "size": 10,
             "solidity": 0.2
            },
            "type": "scatter"
           }
          ],
          "scatter3d": [
           {
            "line": {
             "colorbar": {
              "outlinewidth": 0,
              "ticks": ""
             }
            },
            "marker": {
             "colorbar": {
              "outlinewidth": 0,
              "ticks": ""
             }
            },
            "type": "scatter3d"
           }
          ],
          "scattercarpet": [
           {
            "marker": {
             "colorbar": {
              "outlinewidth": 0,
              "ticks": ""
             }
            },
            "type": "scattercarpet"
           }
          ],
          "scattergeo": [
           {
            "marker": {
             "colorbar": {
              "outlinewidth": 0,
              "ticks": ""
             }
            },
            "type": "scattergeo"
           }
          ],
          "scattergl": [
           {
            "marker": {
             "colorbar": {
              "outlinewidth": 0,
              "ticks": ""
             }
            },
            "type": "scattergl"
           }
          ],
          "scattermapbox": [
           {
            "marker": {
             "colorbar": {
              "outlinewidth": 0,
              "ticks": ""
             }
            },
            "type": "scattermapbox"
           }
          ],
          "scatterpolar": [
           {
            "marker": {
             "colorbar": {
              "outlinewidth": 0,
              "ticks": ""
             }
            },
            "type": "scatterpolar"
           }
          ],
          "scatterpolargl": [
           {
            "marker": {
             "colorbar": {
              "outlinewidth": 0,
              "ticks": ""
             }
            },
            "type": "scatterpolargl"
           }
          ],
          "scatterternary": [
           {
            "marker": {
             "colorbar": {
              "outlinewidth": 0,
              "ticks": ""
             }
            },
            "type": "scatterternary"
           }
          ],
          "surface": [
           {
            "colorbar": {
             "outlinewidth": 0,
             "ticks": ""
            },
            "colorscale": [
             [
              0,
              "#0d0887"
             ],
             [
              0.1111111111111111,
              "#46039f"
             ],
             [
              0.2222222222222222,
              "#7201a8"
             ],
             [
              0.3333333333333333,
              "#9c179e"
             ],
             [
              0.4444444444444444,
              "#bd3786"
             ],
             [
              0.5555555555555556,
              "#d8576b"
             ],
             [
              0.6666666666666666,
              "#ed7953"
             ],
             [
              0.7777777777777778,
              "#fb9f3a"
             ],
             [
              0.8888888888888888,
              "#fdca26"
             ],
             [
              1,
              "#f0f921"
             ]
            ],
            "type": "surface"
           }
          ],
          "table": [
           {
            "cells": {
             "fill": {
              "color": "#EBF0F8"
             },
             "line": {
              "color": "white"
             }
            },
            "header": {
             "fill": {
              "color": "#C8D4E3"
             },
             "line": {
              "color": "white"
             }
            },
            "type": "table"
           }
          ]
         },
         "layout": {
          "annotationdefaults": {
           "arrowcolor": "#2a3f5f",
           "arrowhead": 0,
           "arrowwidth": 1
          },
          "autotypenumbers": "strict",
          "coloraxis": {
           "colorbar": {
            "outlinewidth": 0,
            "ticks": ""
           }
          },
          "colorscale": {
           "diverging": [
            [
             0,
             "#8e0152"
            ],
            [
             0.1,
             "#c51b7d"
            ],
            [
             0.2,
             "#de77ae"
            ],
            [
             0.3,
             "#f1b6da"
            ],
            [
             0.4,
             "#fde0ef"
            ],
            [
             0.5,
             "#f7f7f7"
            ],
            [
             0.6,
             "#e6f5d0"
            ],
            [
             0.7,
             "#b8e186"
            ],
            [
             0.8,
             "#7fbc41"
            ],
            [
             0.9,
             "#4d9221"
            ],
            [
             1,
             "#276419"
            ]
           ],
           "sequential": [
            [
             0,
             "#0d0887"
            ],
            [
             0.1111111111111111,
             "#46039f"
            ],
            [
             0.2222222222222222,
             "#7201a8"
            ],
            [
             0.3333333333333333,
             "#9c179e"
            ],
            [
             0.4444444444444444,
             "#bd3786"
            ],
            [
             0.5555555555555556,
             "#d8576b"
            ],
            [
             0.6666666666666666,
             "#ed7953"
            ],
            [
             0.7777777777777778,
             "#fb9f3a"
            ],
            [
             0.8888888888888888,
             "#fdca26"
            ],
            [
             1,
             "#f0f921"
            ]
           ],
           "sequentialminus": [
            [
             0,
             "#0d0887"
            ],
            [
             0.1111111111111111,
             "#46039f"
            ],
            [
             0.2222222222222222,
             "#7201a8"
            ],
            [
             0.3333333333333333,
             "#9c179e"
            ],
            [
             0.4444444444444444,
             "#bd3786"
            ],
            [
             0.5555555555555556,
             "#d8576b"
            ],
            [
             0.6666666666666666,
             "#ed7953"
            ],
            [
             0.7777777777777778,
             "#fb9f3a"
            ],
            [
             0.8888888888888888,
             "#fdca26"
            ],
            [
             1,
             "#f0f921"
            ]
           ]
          },
          "colorway": [
           "#636efa",
           "#EF553B",
           "#00cc96",
           "#ab63fa",
           "#FFA15A",
           "#19d3f3",
           "#FF6692",
           "#B6E880",
           "#FF97FF",
           "#FECB52"
          ],
          "font": {
           "color": "#2a3f5f"
          },
          "geo": {
           "bgcolor": "white",
           "lakecolor": "white",
           "landcolor": "#E5ECF6",
           "showlakes": true,
           "showland": true,
           "subunitcolor": "white"
          },
          "hoverlabel": {
           "align": "left"
          },
          "hovermode": "closest",
          "mapbox": {
           "style": "light"
          },
          "paper_bgcolor": "white",
          "plot_bgcolor": "#E5ECF6",
          "polar": {
           "angularaxis": {
            "gridcolor": "white",
            "linecolor": "white",
            "ticks": ""
           },
           "bgcolor": "#E5ECF6",
           "radialaxis": {
            "gridcolor": "white",
            "linecolor": "white",
            "ticks": ""
           }
          },
          "scene": {
           "xaxis": {
            "backgroundcolor": "#E5ECF6",
            "gridcolor": "white",
            "gridwidth": 2,
            "linecolor": "white",
            "showbackground": true,
            "ticks": "",
            "zerolinecolor": "white"
           },
           "yaxis": {
            "backgroundcolor": "#E5ECF6",
            "gridcolor": "white",
            "gridwidth": 2,
            "linecolor": "white",
            "showbackground": true,
            "ticks": "",
            "zerolinecolor": "white"
           },
           "zaxis": {
            "backgroundcolor": "#E5ECF6",
            "gridcolor": "white",
            "gridwidth": 2,
            "linecolor": "white",
            "showbackground": true,
            "ticks": "",
            "zerolinecolor": "white"
           }
          },
          "shapedefaults": {
           "line": {
            "color": "#2a3f5f"
           }
          },
          "ternary": {
           "aaxis": {
            "gridcolor": "white",
            "linecolor": "white",
            "ticks": ""
           },
           "baxis": {
            "gridcolor": "white",
            "linecolor": "white",
            "ticks": ""
           },
           "bgcolor": "#E5ECF6",
           "caxis": {
            "gridcolor": "white",
            "linecolor": "white",
            "ticks": ""
           }
          },
          "title": {
           "x": 0.05
          },
          "xaxis": {
           "automargin": true,
           "gridcolor": "white",
           "linecolor": "white",
           "ticks": "",
           "title": {
            "standoff": 15
           },
           "zerolinecolor": "white",
           "zerolinewidth": 2
          },
          "yaxis": {
           "automargin": true,
           "gridcolor": "white",
           "linecolor": "white",
           "ticks": "",
           "title": {
            "standoff": 15
           },
           "zerolinecolor": "white",
           "zerolinewidth": 2
          }
         }
        },
        "title": {
         "text": "Расположение баннеров и офисов"
        }
       }
      }
     },
     "metadata": {},
     "output_type": "display_data"
    }
   ],
   "source": [
    "offices_data = offices_data.rename(columns={'Unnamed: 0': 'office_name'})\n",
    "fig = go.Figure()\n",
    "\n",
    "# Добавление точек офисов\n",
    "fig.add_trace(\n",
    "    go.Scattermapbox(\n",
    "        lat=offices_data['latitude'],\n",
    "        lon=offices_data['longitude'],\n",
    "        mode='markers',\n",
    "        marker=dict(size=10, color='blue'),\n",
    "        name='Offices'\n",
    "    )\n",
    ")\n",
    "\n",
    "# Добавление точек баннеров\n",
    "for _, row in offices_data.iterrows():\n",
    "    banner_latitudes = row['banner_latitude']\n",
    "    banner_longitudes = row['banner_longitude']\n",
    "    \n",
    "    fig.add_trace(\n",
    "        go.Scattermapbox(\n",
    "            lat=banner_latitudes,\n",
    "            lon=banner_longitudes,\n",
    "            mode='markers',\n",
    "            marker=dict(size=5, color='red'),\n",
    "            name='Banners'\n",
    "        )\n",
    "    )\n",
    "\n",
    "# Настройка внешнего вида карты\n",
    "fig.update_layout(\n",
    "    mapbox=dict(\n",
    "        style='carto-positron',\n",
    "        center=dict(lat=44.5, lon=280.4),\n",
    "        zoom=2\n",
    "    ),\n",
    "    title='Расположение баннеров и офисов',\n",
    "    showlegend=True\n",
    ")\n",
    "\n",
    "# Отображение карты\n",
    "fig.show()"
   ]
  },
  {
   "cell_type": "code",
   "execution_count": null,
   "id": "feddc8f2",
   "metadata": {},
   "outputs": [],
   "source": []
  }
 ],
 "metadata": {
  "kernelspec": {
   "display_name": "Python 3 (ipykernel)",
   "language": "python",
   "name": "python3"
  },
  "language_info": {
   "codemirror_mode": {
    "name": "ipython",
    "version": 3
   },
   "file_extension": ".py",
   "mimetype": "text/x-python",
   "name": "python",
   "nbconvert_exporter": "python",
   "pygments_lexer": "ipython3",
   "version": "3.10.11"
  }
 },
 "nbformat": 4,
 "nbformat_minor": 5
}
